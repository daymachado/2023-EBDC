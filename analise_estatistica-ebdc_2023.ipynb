{
 "cells": [
  {
   "cell_type": "code",
   "execution_count": 1,
   "id": "f0058a61",
   "metadata": {},
   "outputs": [],
   "source": [
    "import pandas as pd"
   ]
  },
  {
   "cell_type": "code",
   "execution_count": 2,
   "id": "ff474eda",
   "metadata": {},
   "outputs": [],
   "source": [
    "data = pd.read_csv(\"videos_amostra-ebdc-2023-analisado.tsv\", sep=\"\\t\", header=0)"
   ]
  },
  {
   "cell_type": "code",
   "execution_count": 3,
   "id": "289fe763",
   "metadata": {},
   "outputs": [
    {
     "name": "stdout",
     "output_type": "stream",
     "text": [
      "<class 'pandas.core.frame.DataFrame'>\n",
      "RangeIndex: 198 entries, 0 to 197\n",
      "Data columns (total 10 columns):\n",
      " #   Column        Non-Null Count  Dtype \n",
      "---  ------        --------------  ----- \n",
      " 0   Unnamed: 0    198 non-null    int64 \n",
      " 1   address       198 non-null    object\n",
      " 2   channelTitle  198 non-null    object\n",
      " 3   videoTitle    198 non-null    object\n",
      " 4   o que         198 non-null    object\n",
      " 5   quem          194 non-null    object\n",
      " 6   quando        46 non-null     object\n",
      " 7   onde          198 non-null    object\n",
      " 8   como          197 non-null    object\n",
      " 9   por que       184 non-null    object\n",
      "dtypes: int64(1), object(9)\n",
      "memory usage: 15.6+ KB\n"
     ]
    }
   ],
   "source": [
    "data.info()"
   ]
  },
  {
   "cell_type": "markdown",
   "id": "dc58d61b",
   "metadata": {},
   "source": [
    "# o que: quantas vezes cada nome apareceu?"
   ]
  },
  {
   "cell_type": "code",
   "execution_count": 4,
   "id": "ed9a5e85",
   "metadata": {},
   "outputs": [
    {
     "data": {
      "text/plain": [
       "count                    198\n",
       "unique                     8\n",
       "top       Nova Ordem Mundial\n",
       "freq                     121\n",
       "Name: o que , dtype: object"
      ]
     },
     "execution_count": 4,
     "metadata": {},
     "output_type": "execute_result"
    }
   ],
   "source": [
    "data[\"o que \"].describe()"
   ]
  },
  {
   "cell_type": "code",
   "execution_count": 5,
   "id": "91adf86e",
   "metadata": {},
   "outputs": [
    {
     "data": {
      "text/plain": [
       "array(['Plandemia', 'Nova Ordem Mundial', 'Big Pharma ',\n",
       "       'Perseguição a Bolsonaro', 'Big Pharma', 'Marxismo cultural',\n",
       "       'Marxismo Cultural', 'Plandemic'], dtype=object)"
      ]
     },
     "execution_count": 5,
     "metadata": {},
     "output_type": "execute_result"
    }
   ],
   "source": [
    "data[\"o que \"].unique()"
   ]
  },
  {
   "cell_type": "code",
   "execution_count": 6,
   "id": "d0397920",
   "metadata": {},
   "outputs": [
    {
     "name": "stderr",
     "output_type": "stream",
     "text": [
      "/tmp/ipykernel_497483/294363309.py:3: SettingWithCopyWarning: \n",
      "A value is trying to be set on a copy of a slice from a DataFrame\n",
      "\n",
      "See the caveats in the documentation: https://pandas.pydata.org/pandas-docs/stable/user_guide/indexing.html#returning-a-view-versus-a-copy\n",
      "  data[\"o que \"][idx] = \"Big Pharma\"\n",
      "/tmp/ipykernel_497483/294363309.py:3: SettingWithCopyWarning: \n",
      "A value is trying to be set on a copy of a slice from a DataFrame\n",
      "\n",
      "See the caveats in the documentation: https://pandas.pydata.org/pandas-docs/stable/user_guide/indexing.html#returning-a-view-versus-a-copy\n",
      "  data[\"o que \"][idx] = \"Big Pharma\"\n",
      "/tmp/ipykernel_497483/294363309.py:3: SettingWithCopyWarning: \n",
      "A value is trying to be set on a copy of a slice from a DataFrame\n",
      "\n",
      "See the caveats in the documentation: https://pandas.pydata.org/pandas-docs/stable/user_guide/indexing.html#returning-a-view-versus-a-copy\n",
      "  data[\"o que \"][idx] = \"Big Pharma\"\n",
      "/tmp/ipykernel_497483/294363309.py:7: SettingWithCopyWarning: \n",
      "A value is trying to be set on a copy of a slice from a DataFrame\n",
      "\n",
      "See the caveats in the documentation: https://pandas.pydata.org/pandas-docs/stable/user_guide/indexing.html#returning-a-view-versus-a-copy\n",
      "  data[\"o que \"][idx] = \"Marxismo Cultural\"\n",
      "/tmp/ipykernel_497483/294363309.py:5: SettingWithCopyWarning: \n",
      "A value is trying to be set on a copy of a slice from a DataFrame\n",
      "\n",
      "See the caveats in the documentation: https://pandas.pydata.org/pandas-docs/stable/user_guide/indexing.html#returning-a-view-versus-a-copy\n",
      "  data[\"o que \"][idx] = \"Plandemia\"\n"
     ]
    }
   ],
   "source": [
    "for idx, line in enumerate(data[\"o que \"]):\n",
    "    if line == \"Big Pharma \":\n",
    "        data[\"o que \"][idx] = \"Big Pharma\"\n",
    "    if line == \"Plandemic\":\n",
    "        data[\"o que \"][idx] = \"Plandemia\"\n",
    "    if line == \"Marxismo cultural\":\n",
    "        data[\"o que \"][idx] = \"Marxismo Cultural\""
   ]
  },
  {
   "cell_type": "code",
   "execution_count": 7,
   "id": "022509e3",
   "metadata": {},
   "outputs": [
    {
     "data": {
      "text/plain": [
       "array(['Plandemia', 'Nova Ordem Mundial', 'Big Pharma',\n",
       "       'Perseguição a Bolsonaro', 'Marxismo Cultural'], dtype=object)"
      ]
     },
     "execution_count": 7,
     "metadata": {},
     "output_type": "execute_result"
    }
   ],
   "source": [
    "data[\"o que \"].unique()"
   ]
  },
  {
   "cell_type": "code",
   "execution_count": 8,
   "id": "180174ed",
   "metadata": {},
   "outputs": [
    {
     "data": {
      "text/plain": [
       "o que \n",
       "Nova Ordem Mundial         121\n",
       "Plandemia                   44\n",
       "Big Pharma                  18\n",
       "Perseguição a Bolsonaro     12\n",
       "Marxismo Cultural            3\n",
       "Name: count, dtype: int64"
      ]
     },
     "execution_count": 8,
     "metadata": {},
     "output_type": "execute_result"
    }
   ],
   "source": [
    "data[\"o que \"].value_counts()"
   ]
  },
  {
   "cell_type": "markdown",
   "id": "c5b6dc52",
   "metadata": {},
   "source": [
    "# quem: quais termos se repetiram mais? quantas vezes cada um aparece?"
   ]
  },
  {
   "cell_type": "code",
   "execution_count": 12,
   "id": "b687ccd1",
   "metadata": {},
   "outputs": [],
   "source": [
    "import re"
   ]
  },
  {
   "cell_type": "code",
   "execution_count": 149,
   "id": "440d6f1b",
   "metadata": {},
   "outputs": [
    {
     "name": "stdout",
     "output_type": "stream",
     "text": [
      "ELES                          95\n",
      "SISTEMA                       41\n",
      "MÍDIA                         32\n",
      "YOUTUBE                       28\n",
      "INDÚSTRIA FARMACÊUTICA        26\n",
      "                              ..\n",
      "LABORATÓRIO/CIENTISTAS         1\n",
      "ELITE MUNDIAL/ELITE OCULTA     1\n",
      "ROTHSCHILD                     1\n",
      "ROBERTO CARLOS                 1\n",
      "AGENTES DO DEMÔMIO             1\n",
      "Name: count, Length: 449, dtype: int64\n"
     ]
    }
   ],
   "source": [
    "words_total = []\n",
    "\n",
    "for line in data[\"quem\"]:\n",
    "    if pd.notna(line):\n",
    "        sep_list = re.split(r\",|;\", line)\n",
    "        for word in sep_list:\n",
    "            words_total.append(word.strip().upper())\n",
    "\n",
    "print(pd.Series(words_total).value_counts())"
   ]
  },
  {
   "cell_type": "code",
   "execution_count": 133,
   "id": "02597d4d",
   "metadata": {},
   "outputs": [],
   "source": [
    "def count_words_in_col(column, dropna=True, regex=r\",|;\"):\n",
    "    \"\"\"won't work for data[\"quem\"], currently\"\"\"\n",
    "    words_total = []\n",
    "    \n",
    "    if dropna:\n",
    "        column = column.dropna()\n",
    "\n",
    "    for line in column:\n",
    "        if regex:\n",
    "            aux = re.split(regex, line)\n",
    "            print(aux)\n",
    "            for word in aux:\n",
    "                words_total.append(word.strip().upper())\n",
    "        words_total.append(line.strip().upper())\n",
    "    \n",
    "    words_count = pd.Series(words_total).value_counts()\n",
    "    return words_count"
   ]
  },
  {
   "cell_type": "markdown",
   "id": "eebb3318",
   "metadata": {},
   "source": [
    "# quando"
   ]
  },
  {
   "cell_type": "code",
   "execution_count": 158,
   "id": "151bffb1",
   "metadata": {},
   "outputs": [],
   "source": [
    "words_total = []\n",
    "\n",
    "for line in data[\"quando\"]:\n",
    "    if pd.notna(line):\n",
    "        sep_list = re.split(r\",|;\", line)\n",
    "        for word in sep_list:\n",
    "            words_total.append(word.strip().upper())\n",
    "\n",
    "quando_count = pd.Series(words_total).value_counts()\n",
    "quando_count.to_excel(\"contagem_videos_quando-ebdc-2023.xlsx\")"
   ]
  },
  {
   "cell_type": "code",
   "execution_count": 159,
   "id": "965bace2",
   "metadata": {},
   "outputs": [
    {
     "data": {
      "text/plain": [
       "2030                                                           13\n",
       "AGORA                                                           3\n",
       "2023                                                            3\n",
       "ATÉ 2030                                                        2\n",
       "2024                                                            1\n",
       "6 DE JUNHO DE 2020                                              1\n",
       "23 DE MARÇO DE 2020                                             1\n",
       "29 DE JUNHO DE 2020                                             1\n",
       "2 DE ABRIL DE 2020                                              1\n",
       "2025                                                            1\n",
       "MARÇO DE 2020                                                   1\n",
       "DESDE AGORA EM DIANTE (MAIO DE 2020)                            1\n",
       "4 DE AGOSTO DE 2020                                             1\n",
       "2026                                                            1\n",
       "ATÉ 15 DE MAIO DE 2020                                          1\n",
       "ATÉ DEZEMBRO DE 2020                                            1\n",
       "2019 OU 2030 E POUCOS                                           1\n",
       "3 DE JUNHO DE 2020                                              1\n",
       "EM BREVE                                                        1\n",
       "4 DE JUNHO DE 2020                                              1\n",
       "ETAPA 1 FOI ATÉ 24/08/2020                                      1\n",
       "EM BREVE (ESTAMOS NOS \"ÚLTIMOS MOMENTOS PROFÉTICOS\")            1\n",
       "2023/2024                                                       1\n",
       "PRÓXIMA VEZ (NÃO AGORA)                                         1\n",
       "AGORA (\"ESTAMOS NO FIM\")                                        1\n",
       "EM BREVE SERÁ APRESENTADO O PRÓPRIO ANTICRISTO                  1\n",
       "UMA RELIGIÃO)                                                   1\n",
       "2020 (TODAS AS IGREJAS JUNTAS                                   1\n",
       "EM 2023 COMEÇA O IMPLANTE DO CHIP E O REINADO DO ANTICRISTO     1\n",
       "DINHEIRO DIGITAL ATÉ 2023                                       1\n",
       "2021                                                            1\n",
       "AOS POUCOS                                                      1\n",
       "LONGO TEMPO                                                     1\n",
       "22 E 23 DE JUNHO DE 2020                                        1\n",
       "Name: count, dtype: int64"
      ]
     },
     "execution_count": 159,
     "metadata": {},
     "output_type": "execute_result"
    }
   ],
   "source": [
    "quando_count"
   ]
  },
  {
   "cell_type": "code",
   "execution_count": 144,
   "id": "29ced7fd",
   "metadata": {},
   "outputs": [],
   "source": [
    "quando_count = count_words_in_col(data[\"quando\"], regex=None)\n",
    "quando_count.to_excel(\"contagem_videos_quando-ebdc-2023.xlsx\")"
   ]
  },
  {
   "cell_type": "markdown",
   "id": "b532d059",
   "metadata": {},
   "source": [
    "# onde"
   ]
  },
  {
   "cell_type": "code",
   "execution_count": 35,
   "id": "913728ea",
   "metadata": {},
   "outputs": [
    {
     "data": {
      "text/plain": [
       "MUNDIAL    166\n",
       "BRASIL      31\n",
       "EUA          1\n",
       "Name: count, dtype: int64"
      ]
     },
     "execution_count": 35,
     "metadata": {},
     "output_type": "execute_result"
    }
   ],
   "source": [
    "data_onde_clean = data[\"onde\"].dropna()\n",
    "\n",
    "onde_total = []\n",
    "\n",
    "for line in data_onde_clean:\n",
    "    onde_total.append(line.strip().upper())\n",
    "\n",
    "    \n",
    "onde_total = pd.Series(onde_total)\n",
    "onde_total.value_counts()"
   ]
  },
  {
   "cell_type": "markdown",
   "id": "e63c9973",
   "metadata": {},
   "source": [
    "# como"
   ]
  },
  {
   "cell_type": "code",
   "execution_count": 150,
   "id": "17c5f5de",
   "metadata": {},
   "outputs": [],
   "source": [
    "words_total = []\n",
    "\n",
    "for line in data[\"como\"]:\n",
    "    if pd.notna(line):\n",
    "        sep_list = re.split(r\",|;\", line)\n",
    "        for word in sep_list:\n",
    "            words_total.append(word.strip().upper())\n",
    "\n",
    "como_count = pd.Series(words_total).value_counts()\n",
    "\n",
    "como_count.to_excel(\"contagem_videos_como-ebdc-2023.xlsx\")"
   ]
  },
  {
   "cell_type": "code",
   "execution_count": 151,
   "id": "b5755f72",
   "metadata": {},
   "outputs": [
    {
     "data": {
      "text/plain": [
       "CORONAVÍRUS                                       83\n",
       "PANDEMIA                                          29\n",
       "LEIS                                              22\n",
       "CENSURA                                           19\n",
       "MÁSCARA                                           18\n",
       "                                                  ..\n",
       "DESMONTE DA FAMÍLIA                                1\n",
       "PROMOÇÃO DA AGENDA DA ELITE                        1\n",
       "ARGUMENTO DAS MUDANÇAS CLIMÁTICAS                  1\n",
       "RECESSÃO                                           1\n",
       "ONDA DE CALOR NA SIBÉRIA (MUDANÇAS CLIMÁTICAS)     1\n",
       "Name: count, Length: 722, dtype: int64"
      ]
     },
     "execution_count": 151,
     "metadata": {},
     "output_type": "execute_result"
    }
   ],
   "source": [
    "como_count"
   ]
  },
  {
   "cell_type": "markdown",
   "id": "bc958b5f",
   "metadata": {},
   "source": [
    "# por que"
   ]
  },
  {
   "cell_type": "code",
   "execution_count": 168,
   "id": "3c105ba0",
   "metadata": {},
   "outputs": [],
   "source": [
    "words_total = []\n",
    "\n",
    "data_por_que_clean = data[\"por que\"].dropna()\n",
    "\n",
    "for line in data_por_que_clean:\n",
    "    if pd.notna(line):\n",
    "        sep_list = re.split(r\",|;\", line)\n",
    "        for word in sep_list:\n",
    "            words_total.append(word.strip().upper())\n",
    "\n",
    "por_que_count = pd.Series(words_total).value_counts()\n",
    "por_que_count.to_excel(\"contagem_videos_por_que-ebdc-2023.xlsx\")"
   ]
  },
  {
   "cell_type": "code",
   "execution_count": 169,
   "id": "2ec62086",
   "metadata": {},
   "outputs": [
    {
     "data": {
      "text/plain": [
       "REDUÇÃO POPULACIONAL                                                                                27\n",
       "LUCRO                                                                                               23\n",
       "                                                                                                     9\n",
       "CONTROLE                                                                                             9\n",
       "ANTICRISTO                                                                                           6\n",
       "                                                                                                    ..\n",
       "LUCRO PRA QUEM PROPÕE SOLUÇÕES TECNOLÓGICAS PARA A PANDEMIA                                          1\n",
       "DERRETIMENTO DE GELEIRAS)                                                                            1\n",
       "EXTRAIR O MÁXIMO DE RECURSOS DA TERRA PRA DEPOIS SAIR DO PLANETA (ACREDITA EM AQUECIMENTO GLOBAL     1\n",
       "VINDA DO ANTICRISRO                                                                                  1\n",
       "CULPAR OS SERES HUMANOS                                                                              1\n",
       "Name: count, Length: 423, dtype: int64"
      ]
     },
     "execution_count": 169,
     "metadata": {},
     "output_type": "execute_result"
    }
   ],
   "source": [
    "por_que_count"
   ]
  },
  {
   "cell_type": "code",
   "execution_count": 165,
   "id": "75768bff",
   "metadata": {},
   "outputs": [
    {
     "data": {
      "text/plain": [
       "5           destruição de empregos, empresas e famílias\n",
       "6     transformação de humanos em ciborgues; control...\n",
       "7     redução populacional; domínio mundial; revoluç...\n",
       "8     impossibilidade de patentes e de lucro a parti...\n",
       "9                                     fim da humanidade\n",
       "10                                    eugenia; controle\n",
       "11          destruição da economia; fome; lucro; mortes\n",
       "12                                                lucro\n",
       "13    anticristo; redução populacional; domínio mund...\n",
       "14    destruir a família/humanidade; isolamento soci...\n",
       "Name: por que, dtype: object"
      ]
     },
     "execution_count": 165,
     "metadata": {},
     "output_type": "execute_result"
    }
   ],
   "source": [
    "data[\"por que\"][5:15]"
   ]
  },
  {
   "cell_type": "code",
   "execution_count": null,
   "id": "68ab469c",
   "metadata": {},
   "outputs": [],
   "source": []
  }
 ],
 "metadata": {
  "kernelspec": {
   "display_name": "Python 3 (ipykernel)",
   "language": "python",
   "name": "python3"
  },
  "language_info": {
   "codemirror_mode": {
    "name": "ipython",
    "version": 3
   },
   "file_extension": ".py",
   "mimetype": "text/x-python",
   "name": "python",
   "nbconvert_exporter": "python",
   "pygments_lexer": "ipython3",
   "version": "3.9.16"
  }
 },
 "nbformat": 4,
 "nbformat_minor": 5
}
