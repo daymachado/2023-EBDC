{
 "cells": [
  {
   "cell_type": "markdown",
   "id": "e7031a03",
   "metadata": {},
   "source": [
    "# EBDC 2023"
   ]
  },
  {
   "cell_type": "code",
   "execution_count": 1,
   "id": "4b09c0db",
   "metadata": {},
   "outputs": [],
   "source": [
    "import pandas as pd"
   ]
  },
  {
   "cell_type": "code",
   "execution_count": 2,
   "id": "f69be3c3",
   "metadata": {},
   "outputs": [],
   "source": [
    "#!mamba install openpyxl -y"
   ]
  },
  {
   "cell_type": "code",
   "execution_count": 3,
   "id": "f4d33583",
   "metadata": {},
   "outputs": [],
   "source": [
    "data = pd.read_excel(\"videos-ebdc-2023.xlsx\",\n",
    "                     sheet_name=None)"
   ]
  },
  {
   "cell_type": "code",
   "execution_count": 4,
   "id": "1bf811ef",
   "metadata": {},
   "outputs": [],
   "source": [
    "all_videos = []\n",
    "\n",
    "for sheet in data.items():\n",
    "    channel_name, sheet_individual = sheet\n",
    "    for idx, video_title in enumerate(sheet_individual[\"videoTitle\"]):\n",
    "        video_id = sheet_individual[\"videoId\"][idx]\n",
    "        all_videos.append(\n",
    "            (f\"https://www.youtube.com/watch?v={video_id}\",\n",
    "             channel_name,\n",
    "             video_title)\n",
    "        )"
   ]
  },
  {
   "cell_type": "markdown",
   "id": "a3586150",
   "metadata": {},
   "source": [
    "* Nomeando as colunas."
   ]
  },
  {
   "cell_type": "code",
   "execution_count": 5,
   "id": "96bd1e12",
   "metadata": {},
   "outputs": [],
   "source": [
    "data_proc = pd.DataFrame(all_videos,\n",
    "                         columns=[\"address\",\n",
    "                                  \"channelTitle\",\n",
    "                                  \"videoTitle\"])"
   ]
  },
  {
   "cell_type": "code",
   "execution_count": 6,
   "id": "e7e26e28",
   "metadata": {},
   "outputs": [
    {
     "name": "stdout",
     "output_type": "stream",
     "text": [
      "408\n"
     ]
    }
   ],
   "source": [
    "print(len(data_proc))"
   ]
  },
  {
   "cell_type": "markdown",
   "id": "6a421b94",
   "metadata": {},
   "source": [
    "* Universo de 408 vídeos: amostra de 198 vídeos, 95% de confiança, margem de erro de 5%."
   ]
  },
  {
   "cell_type": "code",
   "execution_count": 7,
   "id": "f6722bb0",
   "metadata": {},
   "outputs": [],
   "source": [
    "data_sample = data_proc.sample(n=198,\n",
    "                               random_state=42,\n",
    "                               ignore_index=True)"
   ]
  },
  {
   "cell_type": "markdown",
   "id": "0e936c3c",
   "metadata": {},
   "source": [
    "* Gravando dados em CSV."
   ]
  },
  {
   "cell_type": "code",
   "execution_count": 8,
   "id": "d3e609ec",
   "metadata": {},
   "outputs": [],
   "source": [
    "data_sample.to_csv(\"videos_amostra-ebdc-2023.csv\")"
   ]
  },
  {
   "cell_type": "code",
   "execution_count": null,
   "id": "733f2599",
   "metadata": {},
   "outputs": [],
   "source": []
  }
 ],
 "metadata": {
  "kernelspec": {
   "display_name": "Python 3 (ipykernel)",
   "language": "python",
   "name": "python3"
  },
  "language_info": {
   "codemirror_mode": {
    "name": "ipython",
    "version": 3
   },
   "file_extension": ".py",
   "mimetype": "text/x-python",
   "name": "python",
   "nbconvert_exporter": "python",
   "pygments_lexer": "ipython3",
   "version": "3.9.16"
  }
 },
 "nbformat": 4,
 "nbformat_minor": 5
}
